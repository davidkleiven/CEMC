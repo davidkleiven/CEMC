{
 "cells": [
  {
   "cell_type": "markdown",
   "metadata": {},
   "source": [
    "# Monte Carlo Simulations in the Semi Grand Canonical Ensemble\n",
    "The Semi Grand Canonical Ensemble (SGCE) is a useful ensemble when studying phases in alloys. In the SGCE the number of atoms is fixed, but the composition is allowed to vary. The ensemble is characterized by two parameters the temperature $T$ and chemical potentials $\\mu_1,\\mu_2 \\dots \\mu_{n-1}$ one for each element present except one which can be set to zero without loss of generality. Hence, there are $n-1$ chemical potentials.\n",
    "\n",
    "## Cluster Expansion\n",
    "The energy is expressed in the form of a cluster expansion (CE) (here only a binary alloy is considered, but it can generalized)\n",
    "\\begin{equation}\n",
    "E(\\mathbf{\\sigma}) = c_0 + c_1 \\sum_i \\sigma_i + c_2 \\sum_{\\langle ij \\rangle} \\sigma_i \\sigma_j + \\cdots\n",
    "\\end{equation}\n",
    "\n",
    "The chemical potential are substracted from the $c_1$ coefficient, and thus controls the composition in the alloy\n",
    "\\begin{equation}\n",
    "E_{sgc}(\\mathbf{\\sigma}) = c_0 + (c_1-\\mu) \\sum_i \\sigma_i + c_2 \\sum_{\\langle ij \\rangle} \\sigma_i \\sigma_j + \\cdots\n",
    "\\end{equation}\n",
    "\n",
    "## Monte Carlo\n",
    "Since the composition is allowed to vary, the monte carlo moves are summarized as\n",
    "1. Select a random atom\n",
    "2. Swap the symbol (i.e. Al $\\rightarrow$ Mg)\n",
    "3. With probabilty min$\\left\\{ 1, \\exp(-(E_{new}-E_{old})/kT )\\right\\}$ accept the move.\n",
    "\n",
    "## Free energy\n",
    "The free energy $\\Phi$ as a function of temperature and chemical potential is of high interest if for instance lattice transition is to be studied.\n",
    "If the system consists of $N$ sites and $m$ elements\n",
    "\\begin{equation}\n",
    "\\frac{\\Phi}{NkT} \\rightarrow -\\ln m \\; \\mathrm{as} \\; T \\rightarrow \\infty\n",
    "\\end{equation}\n",
    "\n",
    "Together with the exact differential \n",
    "\\begin{equation}\n",
    "d(\\beta \\Phi) = E_{sgc}d\\beta - \\beta \\sum_i \\sigma_i d\\mu\n",
    "\\end{equation},\n",
    "where $\\beta=1/kT$,\n",
    "the free energy can be computed at any temeprature and chemical potential using thermodynamic integration.\n",
    "As each simulation is performed at constant $\\mu$ it is convenient to integrate along paths of constant chemical potential, meaning that $d\\mu=0$ and the free energy is given by\n",
    "\\begin{equation}\n",
    "\\beta \\Phi(\\beta,\\mu_0) = \\beta_0\\Phi(\\beta_0,\\mu_0) + \\int_{\\beta_0}^{\\beta_1} d\\beta E_{sgc}\n",
    "\\end{equation}\n",
    "As we typically specify temperature and not $\\beta$ it is useful to change the integration variable from $\\beta$ to $T$\n",
    "\\begin{equation}\n",
    "\\beta \\Phi(\\beta,\\mu_0) = \\beta_0\\Phi(\\beta_0,\\mu_0) - \\int_{T_0}^{T_1} dT \\frac{E_{sgc}}{kT^2}\n",
    "\\end{equation}\n",
    "As the temperature increases $E_{sgc}$ moves towards a constant $E_H$. To avoid lengthy simulations at extremely high temperatures, one can stop the simulations as soon as $E_{sgc}$ reaches a platou.\n",
    "The free energy at this temperature is given by\n",
    "\\begin{equation}\n",
    "\\beta_H \\Phi(T_H,\\mu_0) = -\\ln m - \\frac{E_{sgc}}{k} \\int_\\infty^{T_H} \\frac{dT}{T^2} = -\\ln m + \\frac{E_H}{kT_H}\n",
    "\\end{equation}\n",
    "\n",
    "Based on this value the free energy at all other temperatures is given by\n",
    "\\begin{equation}\n",
    "\\beta \\Phi(T,\\mu_0) = \\beta_H\\Phi(T_H,\\mu_0) - \\int_{T_H}^T dT' \\frac{E_{sgc}}{kT'^2}\n",
    "\\end{equation}\n",
    "\n",
    "## Python Example"
   ]
  },
  {
   "cell_type": "code",
   "execution_count": 1,
   "metadata": {},
   "outputs": [],
   "source": [
    "from cemc.mcmc import sgc_montecarlo as sgc    # Object running the Monte Carlo methods\n",
    "from ase.ce.settings import BulkCrystal        # Object hosting the information about the clusters\n",
    "from cemc.wanglandau.ce_calculator import CE   # Calculator that computes the energy for a given configuration"
   ]
  },
  {
   "cell_type": "markdown",
   "metadata": {},
   "source": [
    "Initialize the BulkCrystal object"
   ]
  },
  {
   "cell_type": "code",
   "execution_count": 2,
   "metadata": {},
   "outputs": [
    {
     "name": "stdout",
     "output_type": "stream",
     "text": [
      "Generating cluster data. It may take several minutes depending on the values of max_cluster_size and max_cluster_dia...\n"
     ]
    }
   ],
   "source": [
    "# ECIs (in this example they are just hardcoded)\n",
    "eci = {\"c3_1225_4_1\": -0.0017448109612305434, \n",
    " \"c2_1000_1_1\": -0.02253231472540913, \n",
    " \"c4_1225_8_1\": 0.0015986520863819958, \n",
    " \"c2_707_1_1\": 0.0020761708499214765, \n",
    " \"c4_707_1_1\": -1.5475822532285122e-05, \n",
    " \"c4_1225_3_1\": 0.0013284466570874605, \n",
    " \"c1_1\": -1.068187483782512, \n",
    " \"c3_1225_2_1\": -0.0015608053756936988, \n",
    " \"c3_1225_1_1\": -0.0010685006728372629, \n",
    " \"c0\": -2.6460513669066836, \n",
    " \"c4_1225_9_1\": -7.3952137244461468e-05}\n",
    "\n",
    "chem_pots = {\n",
    "        \"c1_1\":-1.072 # Define the chemical potentials for the different singlet terms\n",
    "    }\n",
    "\n",
    "conc_args = {\n",
    "            \"conc_ratio_min_1\":[[1,0]],\n",
    "            \"conc_ratio_max_1\":[[0,1]],\n",
    "        }\n",
    "db_name = \"database_with_dft_structures.db\"\n",
    "ceBulk = BulkCrystal( \"fcc\", 4.05, None, [10,10,10], 1, [[\"Al\",\"Mg\"]], conc_args, db_name, max_cluster_size=4, max_cluster_dia=1.414*4.05, reconf_db=True )"
   ]
  },
  {
   "cell_type": "code",
   "execution_count": 3,
   "metadata": {},
   "outputs": [],
   "source": [
    "# Initialize the calculator\n",
    "calc = CE( ceBulk, eci )\n",
    "ceBulk.atoms.set_calculator( calc )"
   ]
  },
  {
   "cell_type": "code",
   "execution_count": 4,
   "metadata": {},
   "outputs": [
    {
     "name": "stderr",
     "output_type": "stream",
     "text": [
      "Equillibriating system\n",
      "Confidence level: 0.05\n",
      "Percentiles: -1.64485362695, 1.64485362695\n",
      "Energy     std.dev    delta E    quantile  \n",
      "  -2656.61   0.000761   4.353253      67.92\n"
     ]
    },
    {
     "name": "stdout",
     "output_type": "stream",
     "text": [
      "{'c3_1225_4_1': -0.0017448109612305434, 'c2_1000_1_1': -0.02253231472540913, 'c4_1225_8_1': 0.0015986520863819958, 'c3_1225_2_1': -0.0015608053756936988, 'c0': -2.6460513669066836, 'c2_707_1_1': 0.0020761708499214765, 'c4_707_1_1': -1.547582253228512e-05, 'c4_1225_3_1': 0.0013284466570874605, 'c1_1': 0.0038125162174880156, 'c3_1225_1_1': -0.001068500672837263, 'c4_1225_9_1': -7.395213724446147e-05}\n"
     ]
    },
    {
     "name": "stderr",
     "output_type": "stream",
     "text": [
      "  -2654.67   0.000070   1.934973      67.12\n",
      "  -2653.30   0.000142   1.375638      94.51\n",
      "  -2652.70   0.000088   0.603195      39.81\n",
      "  -2652.41   0.000048   0.285998      24.57\n",
      "  -2651.51   0.000137   0.904023      66.55\n",
      "  -2651.48   0.000092   0.024658       1.63\n",
      "System reached equillibrium in 9000 mc steps\n"
     ]
    }
   ],
   "source": [
    "# Specify some parameters characterizing the MC (consider far more steps than given here)\n",
    "n_burn = 40    # Burn in steps to avoid initialial configuration bias\n",
    "n_sample = 50  # Number of steps to sample\n",
    "\n",
    "# Initialize the SGC MC object\n",
    "T = 400 # Temperature in Kelvin\n",
    "mc = sgc.SGCMonteCarlo( ceBulk.atoms, T, symbols=[\"Al\",\"Mg\"] )\n",
    "mc.runMC( steps=n_sample, chem_potential=chem_pots )  # Perform sampling"
   ]
  },
  {
   "cell_type": "code",
   "execution_count": 5,
   "metadata": {},
   "outputs": [
    {
     "name": "stdout",
     "output_type": "stream",
     "text": [
      "{'mu_c1_1': -1.072, 'energy': -2651.7769232102187, 'heat_capacity': 0.0003701893861385751, 'temperature': 400, 'singlet_c1_1': -0.0067450980392165629}\n"
     ]
    }
   ],
   "source": [
    "# Retrieve thermodynamic quantities\n",
    "thermo_prop = mc.get_thermodynamic()\n",
    "print (thermo_prop)"
   ]
  },
  {
   "cell_type": "markdown",
   "metadata": {},
   "source": [
    "## Computing the Free Energy\n",
    "One could now run Monte Carlo for a range of temeperatures and chemical potential and use this to compute the Free Energy. For the sake of just showing how to compute the Free Energy we just assume that we have these result and we just use some example values (we load them from a file of precomputed values)"
   ]
  },
  {
   "cell_type": "code",
   "execution_count": 6,
   "metadata": {},
   "outputs": [],
   "source": [
    "# Read data from a file containing precomuted values\n",
    "import json\n",
    "import numpy as np\n",
    "with open( \"example_sgcmc_results.json\", 'r' ) as infile:\n",
    "    data = json.load(infile)\n",
    "n_atoms = 1000.0\n",
    "data = data[\"mu10720m\"]\n",
    "T = data[\"temperature\"]\n",
    "energy = np.array(data[\"energy\"])/n_atoms\n",
    "mu = {\"c1_1\":data[\"mu\"]}\n",
    "singlets = {\"c1_1\":data[\"singlets\"]}"
   ]
  },
  {
   "cell_type": "markdown",
   "metadata": {},
   "source": [
    "We can first look on the results"
   ]
  },
  {
   "cell_type": "code",
   "execution_count": 7,
   "metadata": {},
   "outputs": [
    {
     "data": {
      "text/plain": [
       "<matplotlib.text.Text at 0x7f44d514ed10>"
      ]
     },
     "execution_count": 7,
     "metadata": {},
     "output_type": "execute_result"
    },
    {
     "data": {
      "image/png": "[encoded data removed]",
      "text/plain": [
       "<matplotlib.figure.Figure at 0x7f44daf82c10>"
      ]
     },
     "metadata": {},
     "output_type": "display_data"
    }
   ],
   "source": [
    "from matplotlib import pyplot as plt\n",
    "fig = plt.figure()\n",
    "ax = fig.add_subplot(1,2,1)\n",
    "ax.plot(T,singlets[\"c1_1\"])\n",
    "ax.set_xlabel( \"Temperature (K)\" )\n",
    "ax.set_ylabel( \"Expectation singlet correlation function\" )\n",
    "\n",
    "ax2 = fig.add_subplot(1,2,2)\n",
    "ax2.plot(T,energy)\n",
    "ax2.set_xlabel( \"Temperature (K)\" )\n",
    "ax2.set_ylabel( \"Energy (eV/atom)\")"
   ]
  },
  {
   "cell_type": "markdown",
   "metadata": {},
   "source": [
    "We see that the energy starts to flatten out although it has not completely reached a platou. But we still apply the approximation that $E(T>2000K) \\approx E(T=2000K)$. We use the FreeEnergy class from the cemc module to calculate the free energy."
   ]
  },
  {
   "cell_type": "code",
   "execution_count": 8,
   "metadata": {},
   "outputs": [
    {
     "name": "stdout",
     "output_type": "stream",
     "text": [
      "-16.2146049161\n"
     ]
    },
    {
     "data": {
      "text/plain": [
       "<matplotlib.text.Text at 0x7f44d50437d0>"
      ]
     },
     "execution_count": 8,
     "metadata": {},
     "output_type": "execute_result"
    },
    {
     "data": {
      "image/png": "[encoded data removed]",
      "text/plain": [
       "<matplotlib.figure.Figure at 0x7f44d51da910>"
      ]
     },
     "metadata": {},
     "output_type": "display_data"
    }
   ],
   "source": [
    "from cemc.tools import free_energy as fe\n",
    "free = fe.FreeEnergy()\n",
    "\n",
    "# First we need to get the proper energy in the SGC ensamble\n",
    "sgc_energy = free.get_sgc_energy( energy, singlets, mu )\n",
    "res = free.free_energy_isochemical( T=T, sgc_energy=sgc_energy, nelem=2 )\n",
    "\n",
    "fig = plt.figure()\n",
    "ax = fig.add_subplot(1,1,1)\n",
    "\n",
    "# Important: Use the temperature of the res dictionary rather than the original\n",
    "# The FreeEnergy class sorts the the values based on temperature which may\n",
    "# change the order \n",
    "ax.plot( res[\"temperature\"], res[\"free_energy\"] )\n",
    "ax.set_xlabel( \"Temperature (K)\" )\n",
    "ax.set_ylabel( \"Free energy (eV/atom)\" )"
   ]
  },
  {
   "cell_type": "code",
   "execution_count": 9,
   "metadata": {},
   "outputs": [
    {
     "ename": "KeyError",
     "evalue": "'order'",
     "output_type": "error",
     "traceback": [
      "\u001b[0;31m---------------------------------------------------------------------------\u001b[0m",
      "\u001b[0;31mKeyError\u001b[0m                                  Traceback (most recent call last)",
      "\u001b[0;32m<ipython-input-9-789ce16bd540>\u001b[0m in \u001b[0;36m<module>\u001b[0;34m()\u001b[0m\n\u001b[1;32m      4\u001b[0m \u001b[0mnew_singlets\u001b[0m \u001b[0;34m=\u001b[0m \u001b[0;34m{\u001b[0m\u001b[0;34m}\u001b[0m\u001b[0;34m\u001b[0m\u001b[0m\n\u001b[1;32m      5\u001b[0m \u001b[0;32mfor\u001b[0m \u001b[0mkey\u001b[0m \u001b[0;32min\u001b[0m \u001b[0msinglets\u001b[0m\u001b[0;34m.\u001b[0m\u001b[0mkeys\u001b[0m\u001b[0;34m(\u001b[0m\u001b[0;34m)\u001b[0m\u001b[0;34m:\u001b[0m\u001b[0;34m\u001b[0m\u001b[0m\n\u001b[0;32m----> 6\u001b[0;31m     \u001b[0mnew_singlets\u001b[0m\u001b[0;34m[\u001b[0m\u001b[0mkey\u001b[0m\u001b[0;34m]\u001b[0m \u001b[0;34m=\u001b[0m \u001b[0mnp\u001b[0m\u001b[0;34m.\u001b[0m\u001b[0marray\u001b[0m\u001b[0;34m(\u001b[0m \u001b[0;34m[\u001b[0m\u001b[0msinglets\u001b[0m\u001b[0;34m[\u001b[0m\u001b[0mkey\u001b[0m\u001b[0;34m]\u001b[0m\u001b[0;34m[\u001b[0m\u001b[0mindx\u001b[0m\u001b[0;34m]\u001b[0m \u001b[0;32mfor\u001b[0m \u001b[0mindx\u001b[0m \u001b[0;32min\u001b[0m \u001b[0mres\u001b[0m\u001b[0;34m[\u001b[0m\u001b[0;34m\"order\"\u001b[0m\u001b[0;34m]\u001b[0m\u001b[0;34m]\u001b[0m \u001b[0;34m)\u001b[0m\u001b[0;34m\u001b[0m\u001b[0m\n\u001b[0m\u001b[1;32m      7\u001b[0m \u001b[0mhelmholtz\u001b[0m \u001b[0;34m=\u001b[0m \u001b[0mfree\u001b[0m\u001b[0;34m.\u001b[0m\u001b[0mhelmholtz_free_energy\u001b[0m\u001b[0;34m(\u001b[0m \u001b[0mres\u001b[0m\u001b[0;34m[\u001b[0m\u001b[0;34m\"free_energy\"\u001b[0m\u001b[0;34m]\u001b[0m\u001b[0;34m,\u001b[0m \u001b[0mmu\u001b[0m\u001b[0;34m,\u001b[0m \u001b[0mnew_singlets\u001b[0m \u001b[0;34m)\u001b[0m\u001b[0;34m\u001b[0m\u001b[0m\n\u001b[1;32m      8\u001b[0m \u001b[0;34m\u001b[0m\u001b[0m\n",
      "\u001b[0;31mKeyError\u001b[0m: 'order'"
     ]
    }
   ],
   "source": [
    "# The helmholtz energy can also be computed\n",
    "# Remember that the singlets have to appear in the correct order\n",
    "# The order at which the elements are sorted is given in the res variable\n",
    "new_singlets = {}\n",
    "for key in singlets.keys():\n",
    "    new_singlets[key] = np.array( [singlets[key][indx] for indx in res[\"order\"]] )\n",
    "helmholtz = free.helmholtz_free_energy( res[\"free_energy\"], mu, new_singlets )\n",
    "\n",
    "fig = plt.figure()\n",
    "ax = fig.add_subplot(1,1,1)\n",
    "ax.plot( res[\"temperature\"], helmholtz )\n",
    "ax.set_xlabel( \"Temperature (K)\" )\n",
    "ax.set_ylabel( \"Helmholtz free energy (eV/atom)\" )"
   ]
  },
  {
   "cell_type": "markdown",
   "metadata": {},
   "source": []
  },
  {
   "cell_type": "code",
   "execution_count": null,
   "metadata": {},
   "outputs": [],
   "source": []
  },
  {
   "cell_type": "code",
   "execution_count": null,
   "metadata": {},
   "outputs": [],
   "source": []
  }
 ],
 "metadata": {
  "kernelspec": {
   "display_name": "Python 2",
   "language": "python",
   "name": "python2"
  },
  "language_info": {
   "codemirror_mode": {
    "name": "ipython",
    "version": 2
   },
   "file_extension": ".py",
   "mimetype": "text/x-python",
   "name": "python",
   "nbconvert_exporter": "python",
   "pygments_lexer": "ipython2",
   "version": "2.7.12"
  }
 },
 "nbformat": 4,
 "nbformat_minor": 2
}
