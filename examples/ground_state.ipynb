{
 "cells": [
  {
   "cell_type": "markdown",
   "metadata": {},
   "source": [
    "# Ground state of Al-Mg\n",
    "In this example the ground state of Al-Mg is found using an already trained Cluster Expansion and simulated annealing. The cluster expansion expresses the energy of a structure as\n",
    "\n",
    "$E = c_0 + c_1\\sum_i \\sigma_i + c_2 \\sum_{\\langle ij \\rangle} \\sigma_i \\sigma_j + \\cdots + \\sum_{\\langle ijk \\rangle} \\sigma_i \\sigma_j \\sigma_k + \\cdots$\n",
    "\n",
    "The coefficients $c_0, c_1...$ etc. are fitted to total energies from DFT simulations.\n",
    "\n",
    "## Simulated Annealing\n",
    "The system starts out at a high temperature, here $T=1000$ K and then it is slowly cooled.\n",
    "At each temperature $N_{MC}$ Monte Carlo steps are performed as follow\n",
    "\n",
    "1. Swap two atoms and compute the difference $\\Delta E = E_{new} - E_{old}$ between them\n",
    "2. With probability min$(1,e^{-\\Delta E/kT})$ accept the new state, where $k$ is the Boltzmann constant\n",
    "\n",
    "As the temperature is decreased the system will occupy states with decreasing energy, and finally the system will reach the ground state."
   ]
  },
  {
   "cell_type": "markdown",
   "metadata": {},
   "source": [
    "## Setting up the simulation\n",
    "First we specify the concentration range and initialize the *BulkCrystal* object"
   ]
  },
  {
   "cell_type": "code",
   "execution_count": 1,
   "metadata": {},
   "outputs": [],
   "source": [
    "from ase.ce.settings import BulkCrystal\n",
    "conc_args = {\n",
    "        \"conc_ratio_min_1\":[[1,0]],\n",
    "        \"conc_ratio_max_1\":[[0,1]],\n",
    "    }\n",
    "lattice_type = \"fcc\"\n",
    "a_lat = 4.05                                     # Lattice parameter in Å\n",
    "c_lat = None                                     # There are only one lattice parameter for FCC, so c_lat is None\n",
    "cell_size = [4,4,4]                              # Size of the unit cell\n",
    "n_site_types = 1                                 # Number of site types. Al and Mg can occupy the same sites, so there are only one\n",
    "elements = [[\"Al\",\"Mg\"]]                         # Elements that can occupy the different site types\n",
    "db_name = \"database_with_dft_structures.db\"      # Data base with DFT calculations\n",
    "bc = BulkCrystal( lattice_type, a_lat, c_lat, cell_size, n_site_types, elements, conc_args, db_name, max_cluster_size=4 )"
   ]
  },
  {
   "cell_type": "markdown",
   "metadata": {},
   "source": [
    "Define the different cluster interactions, typically obtained from the *ase.ce.evaluate.Evaluate* object.\n",
    "Here they are just hard coded into a dictionary."
   ]
  },
  {
   "cell_type": "code",
   "execution_count": 2,
   "metadata": {},
   "outputs": [],
   "source": [
    "eci = {\"c3_1225_4_1\": -0.0017448109612305434, \n",
    " \"c2_1000_1_1\": -0.02253231472540913, \n",
    " \"c4_1225_8_1\": 0.0015986520863819958, \n",
    " \"c2_707_1_1\": 0.0020761708499214765, \n",
    " \"c4_707_1_1\": -1.5475822532285122e-05, \n",
    " \"c4_1225_3_1\": 0.0013284466570874605, \n",
    " \"c1_1\": -1.068187483782512, \n",
    " \"c3_1225_2_1\": -0.0015608053756936988, \n",
    " \"c3_1225_1_1\": -0.0010685006728372629, \n",
    " \"c0\": -2.6460513669066836, \n",
    " \"c4_1225_9_1\": -7.3952137244461468e-05}"
   ]
  },
  {
   "cell_type": "markdown",
   "metadata": {},
   "source": [
    "No the Cluster Expansion calculator has to be initialized"
   ]
  },
  {
   "cell_type": "code",
   "execution_count": 3,
   "metadata": {},
   "outputs": [],
   "source": [
    "from cemc.wanglandau.ce_calculator import CE\n",
    "# The atoms object in the BulkCrystal object is initially filled with atoms of the first entry in the element \n",
    "# list. Here this is Al. Pure Al has a value of 1 in the correlation function\n",
    "init_cf = {key:1.0 for key in eci.keys()}\n",
    "calc = CE( bc, eci, initial_cf=init_cf)\n",
    "bc.atoms.set_calculator( calc )"
   ]
  },
  {
   "cell_type": "markdown",
   "metadata": {},
   "source": [
    "Now the CE calculator has a reference to the Atoms object of BulkCrystal. **At this point the atoms object should not be modified by other functions that methods of the CE object.** Now we define the Mg concentation we want to find the ground state of. "
   ]
  },
  {
   "cell_type": "code",
   "execution_count": 4,
   "metadata": {},
   "outputs": [],
   "source": [
    "mg_conc = 0.25\n",
    "n_mg_atoms = int( mg_conc*len( bc.atoms ) )\n",
    "\n",
    "composition = {\n",
    "    \"Al\":1.0-mg_conc,\n",
    "    \"Mg\":mg_conc\n",
    "}\n",
    "\n",
    "bc.atoms._calc.set_composition(composition)"
   ]
  },
  {
   "cell_type": "markdown",
   "metadata": {},
   "source": [
    "Define temperatures and the number of Monte Carlo steps to perform at each temperature. It is wise to cool slowly towards the end"
   ]
  },
  {
   "cell_type": "code",
   "execution_count": 5,
   "metadata": {},
   "outputs": [],
   "source": [
    "temps = [800,700,500,300,200,100,50,20,19,18,15,14,13,12,11,10,9,8,7,6,5,4,3,2,1]\n",
    "n_steps_per = 100 # Consider more steps per temperature than this"
   ]
  },
  {
   "cell_type": "markdown",
   "metadata": {},
   "source": [
    "To be sure that we store the structure with the lowest known energy we need keep track of which structure this is as the simulation proceeds. The *cemc* modules provides a special object that can monitor any Monte Carlo simulation, known as *MCObservers*. Here we will use the observer *LowestEnergyStructure* which essentially always stores the structure with the lowest energy."
   ]
  },
  {
   "cell_type": "code",
   "execution_count": 6,
   "metadata": {},
   "outputs": [],
   "source": [
    "from cemc.mcmc.mc_observers import LowestEnergyStructure\n",
    "obs = LowestEnergyStructure( calc, None )"
   ]
  },
  {
   "cell_type": "markdown",
   "metadata": {},
   "source": [
    "Import the Montecarlo object and loop over the temperatures"
   ]
  },
  {
   "cell_type": "code",
   "execution_count": 7,
   "metadata": {},
   "outputs": [
    {
     "name": "stdout",
     "output_type": "stream",
     "text": [
      "Current temperature 800\n",
      "Current temperature 700\n",
      "Current temperature 500\n",
      "Current temperature 300\n",
      "Current temperature 200\n",
      "Current temperature 100\n",
      "Current temperature 50\n",
      "Current temperature 20\n",
      "Current temperature 19\n",
      "Current temperature 18\n",
      "Current temperature 15\n",
      "Current temperature 14\n",
      "Current temperature 13\n",
      "Current temperature 12\n",
      "Current temperature 11\n",
      "Current temperature 10\n",
      "Current temperature 9\n",
      "Current temperature 8\n",
      "Current temperature 7\n",
      "Current temperature 6\n",
      "Current temperature 5\n",
      "Current temperature 4\n",
      "Current temperature 3\n",
      "Current temperature 2\n",
      "Current temperature 1\n"
     ]
    }
   ],
   "source": [
    "from cemc.mcmc.montecarlo import Montecarlo\n",
    "for T in temps:\n",
    "    print (\"Current temperature {}\".format(T))\n",
    "    mc_obj = Montecarlo( bc.atoms, T )\n",
    "    obs.mc_obj = mc_obj # Set the reference to the Montecarlo object\n",
    "    mc_obj.attach( obs ) # Attach the observer to the Montecarlo object\n",
    "    mc_obj.runMC( steps=n_steps_per, verbose=False )"
   ]
  },
  {
   "cell_type": "markdown",
   "metadata": {},
   "source": [
    "Now one can save the resulting ground state structure."
   ]
  },
  {
   "cell_type": "code",
   "execution_count": 8,
   "metadata": {},
   "outputs": [],
   "source": [
    "from ase.io import write\n",
    "write( \"ground_state.xyz\", bc.atoms )"
   ]
  },
  {
   "cell_type": "markdown",
   "metadata": {},
   "source": [
    "Examples of how the structures might look like is shown below\n",
    "![Structure examples](../img/gs_all_states.png)"
   ]
  },
  {
   "cell_type": "markdown",
   "metadata": {},
   "source": []
  },
  {
   "cell_type": "code",
   "execution_count": null,
   "metadata": {},
   "outputs": [],
   "source": []
  },
  {
   "cell_type": "code",
   "execution_count": null,
   "metadata": {},
   "outputs": [],
   "source": []
  },
  {
   "cell_type": "code",
   "execution_count": null,
   "metadata": {},
   "outputs": [],
   "source": []
  }
 ],
 "metadata": {
  "kernelspec": {
   "display_name": "Python 2",
   "language": "python",
   "name": "python2"
  },
  "language_info": {
   "codemirror_mode": {
    "name": "ipython",
    "version": 2
   },
   "file_extension": ".py",
   "mimetype": "text/x-python",
   "name": "python",
   "nbconvert_exporter": "python",
   "pygments_lexer": "ipython2",
   "version": "2.7.12"
  }
 },
 "nbformat": 4,
 "nbformat_minor": 2
}
